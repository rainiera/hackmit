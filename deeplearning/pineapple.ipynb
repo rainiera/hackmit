{
 "cells": [
  {
   "cell_type": "code",
   "execution_count": 1,
   "metadata": {},
   "outputs": [
    {
     "name": "stderr",
     "output_type": "stream",
     "text": [
      "/Users/rainierababao/anaconda2/envs/nn/lib/python3.6/site-packages/IPython/core/interactiveshell.py:2698: DtypeWarning: Columns (13,14,15) have mixed types. Specify dtype option on import or set low_memory=False.\n",
      "  interactivity=interactivity, compiler=compiler, result=result)\n",
      "/Users/rainierababao/anaconda2/envs/nn/lib/python3.6/site-packages/ipykernel_launcher.py:14: SettingWithCopyWarning: \n",
      "A value is trying to be set on a copy of a slice from a DataFrame.\n",
      "Try using .loc[row_indexer,col_indexer] = value instead\n",
      "\n",
      "See the caveats in the documentation: http://pandas.pydata.org/pandas-docs/stable/indexing.html#indexing-view-versus-copy\n",
      "  \n"
     ]
    }
   ],
   "source": [
    "import pandas as pd\n",
    "\n",
    "def get_training_data(df, smol=0.01, seed=1337):\n",
    "    return df.sample(frac=smol, replace=False, random_state=1337)\n",
    "\n",
    "h1b_data = pd.read_csv('data.csv')\n",
    "desired_cols = ['JOB_TITLE',\n",
    "                'SOC_NAME',\n",
    "                'EMPLOYER_NAME',\n",
    "                'WORKSITE_STATE',\n",
    "                'WORKSITE_CITY',\n",
    "                'WAGE_RATE_OF_PAY_FROM']\n",
    "a = h1b_data[desired_cols]\n",
    "a['WAGE_RATE_OF_PAY_FROM'] = a['WAGE_RATE_OF_PAY_FROM'].apply(lambda x: int(x.replace(',','')[:-3]))\n",
    "c = a[~(a['WAGE_RATE_OF_PAY_FROM'] < 10000)].dropna().copy()\n",
    "TECHIES = set(['SOFTWARE', 'PROGRAMMER', 'DEVELOPER', 'ENGINEER'])\n",
    "\n",
    "from numpy.random import rand, seed\n",
    "seed(1337)\n",
    "\n",
    "# set prior to 1 as we use all TECHIE instances for feature creation\n",
    "TECHIE_PRIOR = 1\n",
    "is_a_techie = lambda job_title: any([word in TECHIES for word in job_title.upper().strip().split()]) and rand() <= TECHIE_PRIOR\n",
    "c['TECHIE'] = c['JOB_TITLE'].map(is_a_techie)"
   ]
  },
  {
   "cell_type": "code",
   "execution_count": 2,
   "metadata": {},
   "outputs": [
    {
     "name": "stdout",
     "output_type": "stream",
     "text": [
      "93\n"
     ]
    },
    {
     "data": {
      "text/html": [
       "<div>\n",
       "<style>\n",
       "    .dataframe thead tr:only-child th {\n",
       "        text-align: right;\n",
       "    }\n",
       "\n",
       "    .dataframe thead th {\n",
       "        text-align: left;\n",
       "    }\n",
       "\n",
       "    .dataframe tbody tr th {\n",
       "        vertical-align: top;\n",
       "    }\n",
       "</style>\n",
       "<table border=\"1\" class=\"dataframe\">\n",
       "  <thead>\n",
       "    <tr style=\"text-align: right;\">\n",
       "      <th></th>\n",
       "      <th>JOB_TITLE</th>\n",
       "    </tr>\n",
       "    <tr>\n",
       "      <th>WORKSITE_CITY</th>\n",
       "      <th></th>\n",
       "    </tr>\n",
       "  </thead>\n",
       "  <tbody>\n",
       "    <tr>\n",
       "      <th>NEW YORK</th>\n",
       "      <td>29700</td>\n",
       "    </tr>\n",
       "    <tr>\n",
       "      <th>SAN FRANCISCO</th>\n",
       "      <td>13050</td>\n",
       "    </tr>\n",
       "    <tr>\n",
       "      <th>HOUSTON</th>\n",
       "      <td>11039</td>\n",
       "    </tr>\n",
       "    <tr>\n",
       "      <th>CHICAGO</th>\n",
       "      <td>9534</td>\n",
       "    </tr>\n",
       "    <tr>\n",
       "      <th>ATLANTA</th>\n",
       "      <td>9120</td>\n",
       "    </tr>\n",
       "  </tbody>\n",
       "</table>\n",
       "</div>"
      ],
      "text/plain": [
       "               JOB_TITLE\n",
       "WORKSITE_CITY           \n",
       "NEW YORK           29700\n",
       "SAN FRANCISCO      13050\n",
       "HOUSTON            11039\n",
       "CHICAGO             9534\n",
       "ATLANTA             9120"
      ]
     },
     "execution_count": 2,
     "metadata": {},
     "output_type": "execute_result"
    }
   ],
   "source": [
    "job_freqs = c[['JOB_TITLE', 'WORKSITE_CITY']].groupby('WORKSITE_CITY').count()\n",
    "\n",
    "# I named this variable after knowing 93 would be the number of cities with > 1000 jobs\n",
    "top_93 = job_freqs[job_freqs['JOB_TITLE']>1000].sort_values('JOB_TITLE', ascending=False)\n",
    "print(len(top_93))\n",
    "top_93.head()"
   ]
  },
  {
   "cell_type": "code",
   "execution_count": 3,
   "metadata": {},
   "outputs": [
    {
     "name": "stdout",
     "output_type": "stream",
     "text": [
      "494762\n",
      "219428\n",
      "275334\n"
     ]
    }
   ],
   "source": [
    "top_93['WORKSITE_CITY'] = top_93.index\n",
    "print(len(c))\n",
    "print(len(c[c['TECHIE']==True]))\n",
    "print(len(c[c['TECHIE']==False]))\n",
    "total_techies = len(c[c['TECHIE']==True])"
   ]
  },
  {
   "cell_type": "code",
   "execution_count": 4,
   "metadata": {
    "collapsed": true
   },
   "outputs": [],
   "source": [
    "top_93_cities_series = top_93['WORKSITE_CITY']\n",
    "top_93_cities = set(top_93_cities_series.tolist())"
   ]
  },
  {
   "cell_type": "code",
   "execution_count": 5,
   "metadata": {
    "collapsed": true
   },
   "outputs": [],
   "source": [
    "d = c[c['WORKSITE_CITY'].isin(top_93_cities)]"
   ]
  },
  {
   "cell_type": "code",
   "execution_count": 14,
   "metadata": {},
   "outputs": [
    {
     "data": {
      "text/html": [
       "<div>\n",
       "<style>\n",
       "    .dataframe thead tr:only-child th {\n",
       "        text-align: right;\n",
       "    }\n",
       "\n",
       "    .dataframe thead th {\n",
       "        text-align: left;\n",
       "    }\n",
       "\n",
       "    .dataframe tbody tr th {\n",
       "        vertical-align: top;\n",
       "    }\n",
       "</style>\n",
       "<table border=\"1\" class=\"dataframe\">\n",
       "  <thead>\n",
       "    <tr style=\"text-align: right;\">\n",
       "      <th></th>\n",
       "      <th>TECHIE</th>\n",
       "      <th>WEIGHTS</th>\n",
       "      <th>WORKSITE_CITY</th>\n",
       "      <th>LAT</th>\n",
       "      <th>LNG</th>\n",
       "    </tr>\n",
       "    <tr>\n",
       "      <th>WORKSITE_CITY</th>\n",
       "      <th></th>\n",
       "      <th></th>\n",
       "      <th></th>\n",
       "      <th></th>\n",
       "      <th></th>\n",
       "    </tr>\n",
       "  </thead>\n",
       "  <tbody>\n",
       "    <tr>\n",
       "      <th>ALPHARETTA</th>\n",
       "      <td>0.010783</td>\n",
       "      <td>0.380937</td>\n",
       "      <td>ALPHARETTA</td>\n",
       "      <td>34.075376</td>\n",
       "      <td>-84.294090</td>\n",
       "    </tr>\n",
       "    <tr>\n",
       "      <th>ATLANTA</th>\n",
       "      <td>0.015107</td>\n",
       "      <td>0.533730</td>\n",
       "      <td>ATLANTA</td>\n",
       "      <td>33.748995</td>\n",
       "      <td>-84.387982</td>\n",
       "    </tr>\n",
       "    <tr>\n",
       "      <th>AUBURN HILLS</th>\n",
       "      <td>0.004001</td>\n",
       "      <td>0.141362</td>\n",
       "      <td>AUBURN HILLS</td>\n",
       "      <td>42.687532</td>\n",
       "      <td>-83.234103</td>\n",
       "    </tr>\n",
       "    <tr>\n",
       "      <th>AUSTIN</th>\n",
       "      <td>0.014146</td>\n",
       "      <td>0.499758</td>\n",
       "      <td>AUSTIN</td>\n",
       "      <td>30.267153</td>\n",
       "      <td>-97.743061</td>\n",
       "    </tr>\n",
       "    <tr>\n",
       "      <th>BALTIMORE</th>\n",
       "      <td>0.001782</td>\n",
       "      <td>0.062953</td>\n",
       "      <td>BALTIMORE</td>\n",
       "      <td>39.290385</td>\n",
       "      <td>-76.612189</td>\n",
       "    </tr>\n",
       "  </tbody>\n",
       "</table>\n",
       "</div>"
      ],
      "text/plain": [
       "                 TECHIE   WEIGHTS WORKSITE_CITY        LAT        LNG\n",
       "WORKSITE_CITY                                                        \n",
       "ALPHARETTA     0.010783  0.380937    ALPHARETTA  34.075376 -84.294090\n",
       "ATLANTA        0.015107  0.533730       ATLANTA  33.748995 -84.387982\n",
       "AUBURN HILLS   0.004001  0.141362  AUBURN HILLS  42.687532 -83.234103\n",
       "AUSTIN         0.014146  0.499758        AUSTIN  30.267153 -97.743061\n",
       "BALTIMORE      0.001782  0.062953     BALTIMORE  39.290385 -76.612189"
      ]
     },
     "execution_count": 14,
     "metadata": {},
     "output_type": "execute_result"
    }
   ],
   "source": [
    "city_weights = d[d['TECHIE']==True][['TECHIE', 'WORKSITE_CITY']].groupby('WORKSITE_CITY').count() / total_techies\n",
    "city_weights['WEIGHTS'] = city_weights.apply(lambda x: x/x.max(), axis=0)\n",
    "city_weights['WORKSITE_CITY'] = city_weights.index\n",
    "\n",
    "# to0 lazy\n",
    "GOOGLE_MAPS_API_KEY = open('.env').read().split('=')[1].strip()\n",
    "\n",
    "import requests\n",
    "import json\n",
    "get_lat_lng = lambda city: json.loads(requests.get('https://maps.googleapis.com/maps/api/place/textsearch/json?query={}&key={}'.format(city.replace(' ', '%20'), GOOGLE_MAPS_API_KEY)).text)['results'][0]['geometry']['location']\n",
    "get_lat = lambda city: get_lat_lng(city)['lat']\n",
    "get_lng = lambda city: get_lat_lng(city)['lng']\n",
    "city_weights['LAT'] = city_weights['WORKSITE_CITY'].map(get_lat)\n",
    "city_weights['LNG'] = city_weights['WORKSITE_CITY'].map(get_lng)\n",
    "city_weights.head()"
   ]
  },
  {
   "cell_type": "code",
   "execution_count": 7,
   "metadata": {},
   "outputs": [
    {
     "name": "stderr",
     "output_type": "stream",
     "text": [
      "/Users/rainierababao/anaconda2/envs/nn/lib/python3.6/site-packages/ipykernel_launcher.py:2: SettingWithCopyWarning: \n",
      "A value is trying to be set on a copy of a slice from a DataFrame.\n",
      "Try using .loc[row_indexer,col_indexer] = value instead\n",
      "\n",
      "See the caveats in the documentation: http://pandas.pydata.org/pandas-docs/stable/indexing.html#indexing-view-versus-copy\n",
      "  \n"
     ]
    },
    {
     "data": {
      "text/html": [
       "<div>\n",
       "<style>\n",
       "    .dataframe thead tr:only-child th {\n",
       "        text-align: right;\n",
       "    }\n",
       "\n",
       "    .dataframe thead th {\n",
       "        text-align: left;\n",
       "    }\n",
       "\n",
       "    .dataframe tbody tr th {\n",
       "        vertical-align: top;\n",
       "    }\n",
       "</style>\n",
       "<table border=\"1\" class=\"dataframe\">\n",
       "  <thead>\n",
       "    <tr style=\"text-align: right;\">\n",
       "      <th></th>\n",
       "      <th>JOB_TITLE</th>\n",
       "      <th>SOC_NAME</th>\n",
       "      <th>EMPLOYER_NAME</th>\n",
       "      <th>WORKSITE_STATE</th>\n",
       "      <th>WORKSITE_CITY</th>\n",
       "      <th>WAGE_RATE_OF_PAY_FROM</th>\n",
       "      <th>TECHIE</th>\n",
       "      <th>WEIGHTS</th>\n",
       "    </tr>\n",
       "  </thead>\n",
       "  <tbody>\n",
       "    <tr>\n",
       "      <th>2</th>\n",
       "      <td>.NET SOFTWARE PROGRAMMER</td>\n",
       "      <td>COMPUTER PROGRAMMERS</td>\n",
       "      <td>EASTBANC TECHNOLOGIES LLC</td>\n",
       "      <td>DC</td>\n",
       "      <td>WASHINGTON</td>\n",
       "      <td>77000</td>\n",
       "      <td>True</td>\n",
       "      <td>0.004179</td>\n",
       "    </tr>\n",
       "    <tr>\n",
       "      <th>3</th>\n",
       "      <td>PROJECT MANAGER</td>\n",
       "      <td>COMPUTER OCCUPATIONS, ALL OTHER</td>\n",
       "      <td>INFO SERVICES LLC</td>\n",
       "      <td>NJ</td>\n",
       "      <td>JERSEY CITY</td>\n",
       "      <td>102000</td>\n",
       "      <td>False</td>\n",
       "      <td>0.007018</td>\n",
       "    </tr>\n",
       "    <tr>\n",
       "      <th>4</th>\n",
       "      <td>ASSOCIATE - ESOTERIC ASSET BACKED SECURITIES</td>\n",
       "      <td>CREDIT ANALYSTS</td>\n",
       "      <td>BB&amp;T CORPORATION</td>\n",
       "      <td>NY</td>\n",
       "      <td>NEW YORK</td>\n",
       "      <td>132500</td>\n",
       "      <td>False</td>\n",
       "      <td>0.028305</td>\n",
       "    </tr>\n",
       "    <tr>\n",
       "      <th>5</th>\n",
       "      <td>CREDIT RISK METRICS SPECIALIST</td>\n",
       "      <td>FINANCIAL SPECIALISTS, ALL OTHER</td>\n",
       "      <td>SUNTRUST BANKS, INC.</td>\n",
       "      <td>GA</td>\n",
       "      <td>ATLANTA</td>\n",
       "      <td>71750</td>\n",
       "      <td>False</td>\n",
       "      <td>0.015107</td>\n",
       "    </tr>\n",
       "    <tr>\n",
       "      <th>6</th>\n",
       "      <td>BUSINESS SYSTEMS ANALYST</td>\n",
       "      <td>MANAGEMENT ANALYSTS</td>\n",
       "      <td>CITADEL INFORMATION SERVICES INC.</td>\n",
       "      <td>NJ</td>\n",
       "      <td>EDISON</td>\n",
       "      <td>61000</td>\n",
       "      <td>False</td>\n",
       "      <td>0.006645</td>\n",
       "    </tr>\n",
       "  </tbody>\n",
       "</table>\n",
       "</div>"
      ],
      "text/plain": [
       "                                      JOB_TITLE  \\\n",
       "2                      .NET SOFTWARE PROGRAMMER   \n",
       "3                               PROJECT MANAGER   \n",
       "4  ASSOCIATE - ESOTERIC ASSET BACKED SECURITIES   \n",
       "5                CREDIT RISK METRICS SPECIALIST   \n",
       "6                      BUSINESS SYSTEMS ANALYST   \n",
       "\n",
       "                           SOC_NAME                      EMPLOYER_NAME  \\\n",
       "2              COMPUTER PROGRAMMERS          EASTBANC TECHNOLOGIES LLC   \n",
       "3   COMPUTER OCCUPATIONS, ALL OTHER                  INFO SERVICES LLC   \n",
       "4                   CREDIT ANALYSTS                   BB&T CORPORATION   \n",
       "5  FINANCIAL SPECIALISTS, ALL OTHER               SUNTRUST BANKS, INC.   \n",
       "6               MANAGEMENT ANALYSTS  CITADEL INFORMATION SERVICES INC.   \n",
       "\n",
       "  WORKSITE_STATE WORKSITE_CITY  WAGE_RATE_OF_PAY_FROM  TECHIE   WEIGHTS  \n",
       "2             DC    WASHINGTON                  77000    True  0.004179  \n",
       "3             NJ   JERSEY CITY                 102000   False  0.007018  \n",
       "4             NY      NEW YORK                 132500   False  0.028305  \n",
       "5             GA       ATLANTA                  71750   False  0.015107  \n",
       "6             NJ        EDISON                  61000   False  0.006645  "
      ]
     },
     "execution_count": 7,
     "metadata": {},
     "output_type": "execute_result"
    }
   ],
   "source": [
    "weight_map = city_weights.to_dict()['TECHIE']\n",
    "d['WEIGHTS'] = d['WORKSITE_CITY'].map(weight_map)\n",
    "d.head()"
   ]
  },
  {
   "cell_type": "code",
   "execution_count": 17,
   "metadata": {},
   "outputs": [],
   "source": [
    "del city_weights['TECHIE']\n",
    "del city_weights['WORKSITE_CITY']\n",
    "city_weights.to_csv('lat_lng_weights.tsv', sep='\\t', index=False, header=False)"
   ]
  }
 ],
 "metadata": {
  "kernelspec": {
   "display_name": "Python 3",
   "language": "python",
   "name": "python3"
  },
  "language_info": {
   "codemirror_mode": {
    "name": "ipython",
    "version": 3
   },
   "file_extension": ".py",
   "mimetype": "text/x-python",
   "name": "python",
   "nbconvert_exporter": "python",
   "pygments_lexer": "ipython3",
   "version": "3.6.2"
  }
 },
 "nbformat": 4,
 "nbformat_minor": 2
}
