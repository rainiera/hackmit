{
 "cells": [
  {
   "cell_type": "code",
   "execution_count": 2,
   "metadata": {
    "collapsed": true
   },
   "outputs": [],
   "source": [
    "import pandas as pd"
   ]
  },
  {
   "cell_type": "code",
   "execution_count": 3,
   "metadata": {},
   "outputs": [
    {
     "name": "stderr",
     "output_type": "stream",
     "text": [
      "/Users/rainierababao/anaconda2/envs/nn/lib/python3.6/site-packages/IPython/core/interactiveshell.py:2698: DtypeWarning: Columns (13,14,15) have mixed types. Specify dtype option on import or set low_memory=False.\n",
      "  interactivity=interactivity, compiler=compiler, result=result)\n"
     ]
    }
   ],
   "source": [
    "h1b_data = pd.read_csv('data.csv')"
   ]
  },
  {
   "cell_type": "code",
   "execution_count": 6,
   "metadata": {},
   "outputs": [
    {
     "name": "stdout",
     "output_type": "stream",
     "text": [
      "528146\n",
      "count                                528145\n",
      "unique                                  821\n",
      "top       SOFTWARE DEVELOPERS, APPLICATIONS\n",
      "freq                                 102527\n",
      "Name: SOC_NAME, dtype: object\n"
     ]
    }
   ],
   "source": [
    "print(len(h1b_data))\n",
    "h1b_data.head()\n",
    "print(h1b_data['SOC_NAME'].describe())\n",
    "ice = h1b_data['SOC_NAME'].value_counts()\n",
    "\n",
    "# h1b_data.groupby('SOC_NAME').value_counts()"
   ]
  },
  {
   "cell_type": "code",
   "execution_count": 23,
   "metadata": {},
   "outputs": [
    {
     "data": {
      "text/plain": [
       "'S'"
      ]
     },
     "execution_count": 23,
     "metadata": {},
     "output_type": "execute_result"
    }
   ],
   "source": [
    "\n",
    "desired_cols = ['JOB_TITLE',\n",
    "        'EMPLOYER_NAME',\n",
    "        'WORKSITE_STATE',\n",
    "        'WORKSITE_CITY',\n",
    "        'WAGE_RATE_OF_PAY_FROM']\n",
    "\n",
    "ice.index.name='SOC_NAME'\n",
    "ice.name"
   ]
  },
  {
   "cell_type": "code",
   "execution_count": 5,
   "metadata": {
    "collapsed": true
   },
   "outputs": [],
   "source": [
    "a = h1b_data[desired_cols]"
   ]
  },
  {
   "cell_type": "code",
   "execution_count": 6,
   "metadata": {},
   "outputs": [
    {
     "name": "stderr",
     "output_type": "stream",
     "text": [
      "/Users/rainierababao/anaconda2/envs/nn/lib/python3.6/site-packages/ipykernel_launcher.py:2: SettingWithCopyWarning: \n",
      "A value is trying to be set on a copy of a slice from a DataFrame.\n",
      "Try using .loc[row_indexer,col_indexer] = value instead\n",
      "\n",
      "See the caveats in the documentation: http://pandas.pydata.org/pandas-docs/stable/indexing.html#indexing-view-versus-copy\n",
      "  \n"
     ]
    },
    {
     "data": {
      "text/html": [
       "<div>\n",
       "<style>\n",
       "    .dataframe thead tr:only-child th {\n",
       "        text-align: right;\n",
       "    }\n",
       "\n",
       "    .dataframe thead th {\n",
       "        text-align: left;\n",
       "    }\n",
       "\n",
       "    .dataframe tbody tr th {\n",
       "        vertical-align: top;\n",
       "    }\n",
       "</style>\n",
       "<table border=\"1\" class=\"dataframe\">\n",
       "  <thead>\n",
       "    <tr style=\"text-align: right;\">\n",
       "      <th></th>\n",
       "      <th>JOB_TITLE</th>\n",
       "      <th>EMPLOYER_NAME</th>\n",
       "      <th>WORKSITE_STATE</th>\n",
       "      <th>WORKSITE_CITY</th>\n",
       "      <th>WAGE_RATE_OF_PAY_FROM</th>\n",
       "    </tr>\n",
       "  </thead>\n",
       "  <tbody>\n",
       "    <tr>\n",
       "      <th>0</th>\n",
       "      <td>ASSOCIATE DATA INTEGRATION</td>\n",
       "      <td>DISCOVER PRODUCTS INC.</td>\n",
       "      <td>IL</td>\n",
       "      <td>RIVERWOODS</td>\n",
       "      <td>65811</td>\n",
       "    </tr>\n",
       "    <tr>\n",
       "      <th>1</th>\n",
       "      <td>SENIOR ASSOCIATE</td>\n",
       "      <td>DFS SERVICES LLC</td>\n",
       "      <td>IL</td>\n",
       "      <td>RIVERWOODS</td>\n",
       "      <td>53000</td>\n",
       "    </tr>\n",
       "    <tr>\n",
       "      <th>2</th>\n",
       "      <td>.NET SOFTWARE PROGRAMMER</td>\n",
       "      <td>EASTBANC TECHNOLOGIES LLC</td>\n",
       "      <td>DC</td>\n",
       "      <td>WASHINGTON</td>\n",
       "      <td>77000</td>\n",
       "    </tr>\n",
       "    <tr>\n",
       "      <th>3</th>\n",
       "      <td>PROJECT MANAGER</td>\n",
       "      <td>INFO SERVICES LLC</td>\n",
       "      <td>NJ</td>\n",
       "      <td>JERSEY CITY</td>\n",
       "      <td>102000</td>\n",
       "    </tr>\n",
       "    <tr>\n",
       "      <th>4</th>\n",
       "      <td>ASSOCIATE - ESOTERIC ASSET BACKED SECURITIES</td>\n",
       "      <td>BB&amp;T CORPORATION</td>\n",
       "      <td>NY</td>\n",
       "      <td>NEW YORK</td>\n",
       "      <td>132500</td>\n",
       "    </tr>\n",
       "  </tbody>\n",
       "</table>\n",
       "</div>"
      ],
      "text/plain": [
       "                                      JOB_TITLE              EMPLOYER_NAME  \\\n",
       "0                    ASSOCIATE DATA INTEGRATION     DISCOVER PRODUCTS INC.   \n",
       "1                              SENIOR ASSOCIATE           DFS SERVICES LLC   \n",
       "2                      .NET SOFTWARE PROGRAMMER  EASTBANC TECHNOLOGIES LLC   \n",
       "3                               PROJECT MANAGER          INFO SERVICES LLC   \n",
       "4  ASSOCIATE - ESOTERIC ASSET BACKED SECURITIES           BB&T CORPORATION   \n",
       "\n",
       "  WORKSITE_STATE WORKSITE_CITY  WAGE_RATE_OF_PAY_FROM  \n",
       "0             IL    RIVERWOODS                  65811  \n",
       "1             IL    RIVERWOODS                  53000  \n",
       "2             DC    WASHINGTON                  77000  \n",
       "3             NJ   JERSEY CITY                 102000  \n",
       "4             NY      NEW YORK                 132500  "
      ]
     },
     "execution_count": 6,
     "metadata": {},
     "output_type": "execute_result"
    }
   ],
   "source": [
    "a['WAGE_RATE_OF_PAY_FROM'] = a['WAGE_RATE_OF_PAY_FROM'].apply(\n",
    "    lambda x: int(x.replace(',','')[:-3]))\n",
    "b = a[~(a['WAGE_RATE_OF_PAY_FROM'] < 10000)]\n",
    "b.head()"
   ]
  },
  {
   "cell_type": "code",
   "execution_count": 7,
   "metadata": {},
   "outputs": [
    {
     "name": "stdout",
     "output_type": "stream",
     "text": [
      "494814\n"
     ]
    }
   ],
   "source": [
    "print(len(b))"
   ]
  },
  {
   "cell_type": "code",
   "execution_count": 8,
   "metadata": {},
   "outputs": [
    {
     "name": "stdout",
     "output_type": "stream",
     "text": [
      "494763\n"
     ]
    }
   ],
   "source": [
    "b = b.dropna()\n",
    "print(len(b))\n",
    "# b.to_csv('h1b.tsv', sep='\\t', index=False, header=False)\n",
    "# c = b.sample(frac=0.01, replace=True)\n",
    "# print(len(c))\n",
    "# print(len(b))\n",
    "# c.to_csv('h1b_sampler.tsv', sep='\\t', index=False, header=False)"
   ]
  },
  {
   "cell_type": "code",
   "execution_count": 9,
   "metadata": {},
   "outputs": [
    {
     "data": {
      "text/html": [
       "<div>\n",
       "<style>\n",
       "    .dataframe thead tr:only-child th {\n",
       "        text-align: right;\n",
       "    }\n",
       "\n",
       "    .dataframe thead th {\n",
       "        text-align: left;\n",
       "    }\n",
       "\n",
       "    .dataframe tbody tr th {\n",
       "        vertical-align: top;\n",
       "    }\n",
       "</style>\n",
       "<table border=\"1\" class=\"dataframe\">\n",
       "  <thead>\n",
       "    <tr style=\"text-align: right;\">\n",
       "      <th></th>\n",
       "      <th>JOB_TITLE</th>\n",
       "      <th>EMPLOYER_NAME</th>\n",
       "      <th>WORKSITE_STATE</th>\n",
       "      <th>WORKSITE_CITY</th>\n",
       "      <th>WAGE_RATE_OF_PAY_FROM</th>\n",
       "    </tr>\n",
       "  </thead>\n",
       "  <tbody>\n",
       "    <tr>\n",
       "      <th>0</th>\n",
       "      <td>ASSOCIATE DATA INTEGRATION</td>\n",
       "      <td>DISCOVER PRODUCTS INC.</td>\n",
       "      <td>IL</td>\n",
       "      <td>RIVERWOODS</td>\n",
       "      <td>65811</td>\n",
       "    </tr>\n",
       "    <tr>\n",
       "      <th>1</th>\n",
       "      <td>SENIOR ASSOCIATE</td>\n",
       "      <td>DFS SERVICES LLC</td>\n",
       "      <td>IL</td>\n",
       "      <td>RIVERWOODS</td>\n",
       "      <td>53000</td>\n",
       "    </tr>\n",
       "    <tr>\n",
       "      <th>2</th>\n",
       "      <td>.NET SOFTWARE PROGRAMMER</td>\n",
       "      <td>EASTBANC TECHNOLOGIES LLC</td>\n",
       "      <td>DC</td>\n",
       "      <td>WASHINGTON</td>\n",
       "      <td>77000</td>\n",
       "    </tr>\n",
       "    <tr>\n",
       "      <th>3</th>\n",
       "      <td>PROJECT MANAGER</td>\n",
       "      <td>INFO SERVICES LLC</td>\n",
       "      <td>NJ</td>\n",
       "      <td>JERSEY CITY</td>\n",
       "      <td>102000</td>\n",
       "    </tr>\n",
       "    <tr>\n",
       "      <th>4</th>\n",
       "      <td>ASSOCIATE - ESOTERIC ASSET BACKED SECURITIES</td>\n",
       "      <td>BB&amp;T CORPORATION</td>\n",
       "      <td>NY</td>\n",
       "      <td>NEW YORK</td>\n",
       "      <td>132500</td>\n",
       "    </tr>\n",
       "  </tbody>\n",
       "</table>\n",
       "</div>"
      ],
      "text/plain": [
       "                                      JOB_TITLE              EMPLOYER_NAME  \\\n",
       "0                    ASSOCIATE DATA INTEGRATION     DISCOVER PRODUCTS INC.   \n",
       "1                              SENIOR ASSOCIATE           DFS SERVICES LLC   \n",
       "2                      .NET SOFTWARE PROGRAMMER  EASTBANC TECHNOLOGIES LLC   \n",
       "3                               PROJECT MANAGER          INFO SERVICES LLC   \n",
       "4  ASSOCIATE - ESOTERIC ASSET BACKED SECURITIES           BB&T CORPORATION   \n",
       "\n",
       "  WORKSITE_STATE WORKSITE_CITY  WAGE_RATE_OF_PAY_FROM  \n",
       "0             IL    RIVERWOODS                  65811  \n",
       "1             IL    RIVERWOODS                  53000  \n",
       "2             DC    WASHINGTON                  77000  \n",
       "3             NJ   JERSEY CITY                 102000  \n",
       "4             NY      NEW YORK                 132500  "
      ]
     },
     "execution_count": 9,
     "metadata": {},
     "output_type": "execute_result"
    }
   ],
   "source": [
    "b.head()"
   ]
  },
  {
   "cell_type": "code",
   "execution_count": 10,
   "metadata": {
    "collapsed": true
   },
   "outputs": [],
   "source": [
    "c = b.copy()\n",
    "TECHIES = set(['SOFTWARE', 'PROGRAMMER', 'DEVELOPER', 'ENGINEER'])\n",
    "from numpy.random import rand\n",
    "# 95% of the time, TECHIES will be identified as a HENRY\n",
    "is_a_techie = lambda job_title: any([word in TECHIES for word in job_title.upper().strip().split()]) and rand() <= 0.95\n",
    "c['HENRY'] = c['JOB_TITLE'].map(is_a_techie)"
   ]
  },
  {
   "cell_type": "code",
   "execution_count": 11,
   "metadata": {},
   "outputs": [
    {
     "data": {
      "text/html": [
       "<div>\n",
       "<style>\n",
       "    .dataframe thead tr:only-child th {\n",
       "        text-align: right;\n",
       "    }\n",
       "\n",
       "    .dataframe thead th {\n",
       "        text-align: left;\n",
       "    }\n",
       "\n",
       "    .dataframe tbody tr th {\n",
       "        vertical-align: top;\n",
       "    }\n",
       "</style>\n",
       "<table border=\"1\" class=\"dataframe\">\n",
       "  <thead>\n",
       "    <tr style=\"text-align: right;\">\n",
       "      <th></th>\n",
       "      <th>JOB_TITLE</th>\n",
       "      <th>EMPLOYER_NAME</th>\n",
       "      <th>WORKSITE_STATE</th>\n",
       "      <th>WORKSITE_CITY</th>\n",
       "      <th>WAGE_RATE_OF_PAY_FROM</th>\n",
       "      <th>HENRY</th>\n",
       "    </tr>\n",
       "  </thead>\n",
       "  <tbody>\n",
       "    <tr>\n",
       "      <th>0</th>\n",
       "      <td>ASSOCIATE DATA INTEGRATION</td>\n",
       "      <td>DISCOVER PRODUCTS INC.</td>\n",
       "      <td>IL</td>\n",
       "      <td>RIVERWOODS</td>\n",
       "      <td>65811</td>\n",
       "      <td>False</td>\n",
       "    </tr>\n",
       "    <tr>\n",
       "      <th>1</th>\n",
       "      <td>SENIOR ASSOCIATE</td>\n",
       "      <td>DFS SERVICES LLC</td>\n",
       "      <td>IL</td>\n",
       "      <td>RIVERWOODS</td>\n",
       "      <td>53000</td>\n",
       "      <td>False</td>\n",
       "    </tr>\n",
       "    <tr>\n",
       "      <th>2</th>\n",
       "      <td>.NET SOFTWARE PROGRAMMER</td>\n",
       "      <td>EASTBANC TECHNOLOGIES LLC</td>\n",
       "      <td>DC</td>\n",
       "      <td>WASHINGTON</td>\n",
       "      <td>77000</td>\n",
       "      <td>True</td>\n",
       "    </tr>\n",
       "    <tr>\n",
       "      <th>3</th>\n",
       "      <td>PROJECT MANAGER</td>\n",
       "      <td>INFO SERVICES LLC</td>\n",
       "      <td>NJ</td>\n",
       "      <td>JERSEY CITY</td>\n",
       "      <td>102000</td>\n",
       "      <td>False</td>\n",
       "    </tr>\n",
       "    <tr>\n",
       "      <th>4</th>\n",
       "      <td>ASSOCIATE - ESOTERIC ASSET BACKED SECURITIES</td>\n",
       "      <td>BB&amp;T CORPORATION</td>\n",
       "      <td>NY</td>\n",
       "      <td>NEW YORK</td>\n",
       "      <td>132500</td>\n",
       "      <td>False</td>\n",
       "    </tr>\n",
       "  </tbody>\n",
       "</table>\n",
       "</div>"
      ],
      "text/plain": [
       "                                      JOB_TITLE              EMPLOYER_NAME  \\\n",
       "0                    ASSOCIATE DATA INTEGRATION     DISCOVER PRODUCTS INC.   \n",
       "1                              SENIOR ASSOCIATE           DFS SERVICES LLC   \n",
       "2                      .NET SOFTWARE PROGRAMMER  EASTBANC TECHNOLOGIES LLC   \n",
       "3                               PROJECT MANAGER          INFO SERVICES LLC   \n",
       "4  ASSOCIATE - ESOTERIC ASSET BACKED SECURITIES           BB&T CORPORATION   \n",
       "\n",
       "  WORKSITE_STATE WORKSITE_CITY  WAGE_RATE_OF_PAY_FROM  HENRY  \n",
       "0             IL    RIVERWOODS                  65811  False  \n",
       "1             IL    RIVERWOODS                  53000  False  \n",
       "2             DC    WASHINGTON                  77000   True  \n",
       "3             NJ   JERSEY CITY                 102000  False  \n",
       "4             NY      NEW YORK                 132500  False  "
      ]
     },
     "execution_count": 11,
     "metadata": {},
     "output_type": "execute_result"
    }
   ],
   "source": [
    "c.head()"
   ]
  },
  {
   "cell_type": "code",
   "execution_count": 12,
   "metadata": {
    "collapsed": true
   },
   "outputs": [],
   "source": [
    "c.to_csv('h1b_henry.tsv', sep='\\t', index=False, header=False)\n",
    "import random\n",
    "random.seed(1337)\n",
    "c.sample(frac=0.01, replace=True).to_csv('h1b_henry_sampler.tsv', sep='\\t', index=False, header=False)"
   ]
  }
 ],
 "metadata": {
  "kernelspec": {
   "display_name": "Python 3",
   "language": "python",
   "name": "python3"
  },
  "language_info": {
   "codemirror_mode": {
    "name": "ipython",
    "version": 3
   },
   "file_extension": ".py",
   "mimetype": "text/x-python",
   "name": "python",
   "nbconvert_exporter": "python",
   "pygments_lexer": "ipython3",
   "version": "3.6.2"
  }
 },
 "nbformat": 4,
 "nbformat_minor": 2
}
